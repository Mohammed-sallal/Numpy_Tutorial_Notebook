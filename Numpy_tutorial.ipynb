{
 "cells": [
  {
   "attachments": {
    "NumPy.jpeg": {
     "image/jpeg": "[encoded data removed]"
    }
   },
   "cell_type": "markdown",
   "id": "4fc4ce90",
   "metadata": {},
   "source": [
    "![NumPy.jpeg](attachment:NumPy.jpeg)"
   ]
  },
  {
   "cell_type": "markdown",
   "id": "77c64795",
   "metadata": {},
   "source": [
    "### <span style=\"font-size: 1.5em; font-family: 'Times New Roman', Times, serif; color: #43B2DB;\">**1. Why Numpy ?**</span> <br>"
   ]
  },
  {
   "cell_type": "markdown",
   "id": "801451f2",
   "metadata": {},
   "source": [
    "* **NumPy** (**Numerical Python**) is the foundational package for data science and AI in Python. <br>\n",
    " It provides a powerful N-dimensional array object called the `ndarray`.\n",
    "\n",
    "* **Performance**: The main reason to use NumPy is its speed. For numerical tasks, <br>\n",
    " its arrays are significantly faster and more memory-efficient than standard Python lists. This is critical for machine learning.\n",
    "\n",
    "* **Ecosystem**: It serves as the backbone for the entire scientific Python ecosystem. <br>\n",
    " Major libraries like **Pandas**, **Scikit-learn**, and **TensorFlow** are built directly on top of it."
   ]
  },
  {
   "cell_type": "markdown",
   "id": "ac551a42",
   "metadata": {},
   "source": [
    "#### <span style=\"font-family: 'Times New Roman', Times, serif; color: #6C8AE5;\">**- NumPy Arrays vs. Python Lists, which one is faster ?**</span> <br>"
   ]
  },
  {
   "cell_type": "markdown",
   "id": "0b8d1494",
   "metadata": {},
   "source": [
    "- We'll create a large array of one million numbers and multiply each element by 2"
   ]
  },
  {
   "cell_type": "code",
   "execution_count": 1,
   "id": "4641867c",
   "metadata": {},
   "outputs": [],
   "source": [
    "import numpy as np"
   ]
  },
  {
   "cell_type": "code",
   "execution_count": 3,
   "id": "a0d4832e",
   "metadata": {},
   "outputs": [],
   "source": [
    "# Creating numpy array (we will discuss 'how' next section..)\n",
    "numpy_array = np.arange(1_000_000)\n",
    "\n",
    "# Creating python list\n",
    "python_list = list(range(1_000_000))"
   ]
  },
  {
   "cell_type": "markdown",
   "id": "c32fb18f",
   "metadata": {},
   "source": [
    "- Now, let's compute the time of execution of both using the `%timeit` magic command"
   ]
  },
  {
   "cell_type": "code",
   "execution_count": 4,
   "id": "a1268fac",
   "metadata": {},
   "outputs": [
    {
     "name": "stdout",
     "output_type": "stream",
     "text": [
      "1.82 ms ± 67.3 μs per loop (mean ± std. dev. of 7 runs, 1,000 loops each)\n"
     ]
    }
   ],
   "source": [
    "# the execution time of the numpy array\n",
    "%timeit array = numpy_array * 2"
   ]
  },
  {
   "cell_type": "code",
   "execution_count": 5,
   "id": "83b54542",
   "metadata": {},
   "outputs": [
    {
     "name": "stdout",
     "output_type": "stream",
     "text": [
      "36.1 ms ± 517 μs per loop (mean ± std. dev. of 7 runs, 10 loops each)\n"
     ]
    }
   ],
   "source": [
    "# the execution time of the python list\n",
    "%timeit lst = [num * 2 for num in python_list]"
   ]
  },
  {
   "cell_type": "markdown",
   "id": "19bb7cdb",
   "metadata": {},
   "source": [
    "* <span style=\"font-size: 1.5em; font-family: 'Times New Roman', Times, serif; color: #4e6ecdff;\">What Just Happened ?    **\"Vectorization\"**</span> <br>\n",
    "    <font size=\"3\">As you can see, the NumPy operation is dramatically faster—often by **20x** or more!.</font> \n",
    "    \n",
    "* <span style=\"font-size: 1.5em; font-family: 'Times New Roman', Times, serif; color: #4e6ecdff;\">This incredible speed comes from **Vectorization**</span> <br>\n",
    "    <font size=\"3\">Instead of looping through the elements one-by-one (like the Python list did) <br>\n",
    "    NumPy **performs the operation on the entire array at once** in highly optimized, <br>\n",
    "    pre-compiled C code. This efficiency is the primary reason why NumPy is the <br>\n",
    "     foundation for the AI and data science ecosystem in Python.</font>\n",
    "\n",
    "* <span style=\"font-size: 1.5em; font-family: 'Times New Roman', Times, serif; color: #4e6ecdff;\">You are wondering What the magic command `%timeit` does, Right ?</span> <br>\n",
    "\n",
    "    - `%timeit` <br>\n",
    "        Is a special command in Jupyter/IPython notebooks that measures <br>\n",
    "        the execution time of a single line of code. <br>\n",
    "        It runs the code multiple times to get a more accurate average speed.\n",
    "\n",
    "    - **Examples:**\n",
    "        - `%timeit`  # Use this when your entire code fits on one line\n",
    "            ```python\n",
    "            %timeit [x**2 for x in range(1000)]\n",
    "            ```\n",
    "        \n",
    "        \n",
    "        - `%%timeit` # Use this to time a whole block of code\n",
    "            ```python\n",
    "            %%timeit\n",
    "            total = 0\n",
    "            for i in range(1000):\n",
    "                total += i**2\n",
    "            ```"
   ]
  },
  {
   "cell_type": "markdown",
   "id": "8fe08e32",
   "metadata": {},
   "source": [
    "### <span style=\"font-size: 1.5em; font-family: 'Times New Roman', Times, serif; color: #43B2DB;\">**2. Arrays (Creation, Data Types, Casting, Copy)**</span> <br>"
   ]
  },
  {
   "cell_type": "markdown",
   "id": "baa8d60b",
   "metadata": {},
   "source": [
    "#### <span style=\"font-family: 'Times New Roman', Times, serif; color: #6C8AE5;\">**Creating Arrays**</span> <br>"
   ]
  },
  {
   "cell_type": "markdown",
   "id": "047cffa2",
   "metadata": {},
   "source": [
    "##### **1- Using `np.array`**"
   ]
  },
  {
   "cell_type": "markdown",
   "id": "50d96938",
   "metadata": {},
   "source": [
    "- To use the `np.array()` method you just pass <br>\n",
    "     (list, tuple, array, or other sequence type) to its argument"
   ]
  },
  {
   "cell_type": "markdown",
   "id": "95f57a7e",
   "metadata": {},
   "source": [
    "**1D Array :** You can create a one-dimensional array by passing a single list "
   ]
  },
  {
   "cell_type": "code",
   "execution_count": 6,
   "id": "7e03dd15",
   "metadata": {},
   "outputs": [
    {
     "data": {
      "text/plain": [
       "array([1, 2, 3, 4, 5])"
      ]
     },
     "execution_count": 6,
     "metadata": {},
     "output_type": "execute_result"
    }
   ],
   "source": [
    "# Converting python list \n",
    "iterable_object = [1, 2, 3, 4, 5]\n",
    "arr = np.array(iterable_object)\n",
    "arr"
   ]
  },
  {
   "cell_type": "markdown",
   "id": "368d1083",
   "metadata": {},
   "source": [
    "**2D Array (Matrix) :** Passing a list of lists will create a two-dimensional array"
   ]
  },
  {
   "cell_type": "code",
   "execution_count": 7,
   "id": "33ba0eed",
   "metadata": {},
   "outputs": [
    {
     "data": {
      "text/plain": [
       "array([[1, 2, 3],\n",
       "       [4, 5, 6]])"
      ]
     },
     "execution_count": 7,
     "metadata": {},
     "output_type": "execute_result"
    }
   ],
   "source": [
    "list_of_lists = [\n",
    "    [1, 2, 3], \n",
    "    [4, 5, 6]\n",
    "    ]\n",
    "arr = np.array(list_of_lists)\n",
    "arr"
   ]
  },
  {
   "cell_type": "markdown",
   "id": "3a56b03a",
   "metadata": {},
   "source": [
    "You can also specify the dimensions `ndim` or the data type `dtype`"
   ]
  },
  {
   "cell_type": "code",
   "execution_count": 8,
   "id": "e54eed30",
   "metadata": {},
   "outputs": [
    {
     "data": {
      "text/plain": [
       "array([[[11., 22., 33., 44., 55., 66.]]], dtype=float32)"
      ]
     },
     "execution_count": 8,
     "metadata": {},
     "output_type": "execute_result"
    }
   ],
   "source": [
    "arr = np.array( (11, 22, 33, 44, 55, 66), dtype='float32', ndmin=3 )\n",
    "arr"
   ]
  },
  {
   "cell_type": "markdown",
   "id": "c946c63c",
   "metadata": {},
   "source": [
    "##### **2- Using `np.zeros`  `np.ones`  `np.empty`  `np.full`  `np.eye`**"
   ]
  },
  {
   "cell_type": "code",
   "execution_count": 15,
   "id": "781acccb",
   "metadata": {},
   "outputs": [
    {
     "name": "stdout",
     "output_type": "stream",
     "text": [
      "**Zeros Matrix**\n",
      "[[0. 0. 0. 0. 0.]\n",
      " [0. 0. 0. 0. 0.]] \n",
      "\n",
      "Info: Produce an array of all 0s with the given shape and data type\n"
     ]
    }
   ],
   "source": [
    "# if you want to make an array with only the value of zero\n",
    "zero = np.zeros((2, 5)) # by default its giving you float numbers but you can use `dtype` to change\n",
    "print('**Zeros Matrix**')\n",
    "print(zero, '\\n')\n",
    "print('Info: Produce an array of all 0s with the given shape and data type')\n"
   ]
  },
  {
   "cell_type": "code",
   "execution_count": 16,
   "id": "3337e7c4",
   "metadata": {},
   "outputs": [
    {
     "name": "stdout",
     "output_type": "stream",
     "text": [
      "**Ones Matrix**\n",
      "[[1. 1.]\n",
      " [1. 1.]\n",
      " [1. 1.]\n",
      " [1. 1.]] \n",
      "\n",
      "Info: Produce an array of all 1s with the given shape and data type\n"
     ]
    }
   ],
   "source": [
    "# if you want to make an array with only the value of one\n",
    "one = np.ones((4, 2)) # by default its giving you float numbers but you can use `dtype` to change\n",
    "print('**Ones Matrix**')\n",
    "print(one, '\\n')\n",
    "print('Info: Produce an array of all 1s with the given shape and data type')"
   ]
  },
  {
   "cell_type": "code",
   "execution_count": 17,
   "id": "5c667525",
   "metadata": {},
   "outputs": [
    {
     "name": "stdout",
     "output_type": "stream",
     "text": [
      "**Full Matrix**\n",
      "[[6.25 6.25 6.25]\n",
      " [6.25 6.25 6.25]\n",
      " [6.25 6.25 6.25]\n",
      " [6.25 6.25 6.25]\n",
      " [6.25 6.25 6.25]\n",
      " [6.25 6.25 6.25]] \n",
      "\n",
      "Info: you give it the shape you want and the value\n"
     ]
    }
   ],
   "source": [
    "# if you want to make an array filled with a specific value\n",
    "filled = np.full((6, 3), 6.25) # you also can use `dtype` here\n",
    "print('**Full Matrix**')\n",
    "print(filled, '\\n')\n",
    "print('Info: you give it the shape you want and the value')"
   ]
  },
  {
   "cell_type": "code",
   "execution_count": 18,
   "id": "e70cb311",
   "metadata": {},
   "outputs": [
    {
     "name": "stdout",
     "output_type": "stream",
     "text": [
      "**Empty Matrix**\n",
      "[[6.23042070e-307 4.67296746e-307]\n",
      " [1.69121096e-306 1.06811083e-306]] \n",
      "\n",
      "Info: It’s not safe to assume that numpy.empty will return an array of all zeros.\n",
      "      This function returns uninitialized memory and thus may contain nonzero \"garbage\" values.\n"
     ]
    }
   ],
   "source": [
    "# if you want to make an empty array \n",
    "empty_arr = np.empty((2, 2)) # by default its giving you float numbers but you can use `dtype` to change\n",
    "print('**Empty Matrix**')\n",
    "print(empty_arr, '\\n')\n",
    "print('Info: It’s not safe to assume that numpy.empty will return an array of all zeros.\\n\\\n",
    "      This function returns uninitialized memory and thus may contain nonzero \"garbage\" values.')\n"
   ]
  },
  {
   "cell_type": "code",
   "execution_count": 14,
   "id": "ecccbedd",
   "metadata": {},
   "outputs": [
    {
     "name": "stdout",
     "output_type": "stream",
     "text": [
      "**Identity Matrix**\n",
      "[[1. 0. 0.]\n",
      " [0. 1. 0.]\n",
      " [0. 0. 1.]]\n",
      "Info: Create a square N × N identity matrix (1s on the diagonal and 0s elsewhere)\n",
      "      you can also use \"np.identity\" instead of \"np.eye\"\n"
     ]
    }
   ],
   "source": [
    "# if you want to make an identity array\n",
    "identity = np.eye(3) # by default its giving you float numbers but you can use `dtype` to change\n",
    "print('**Identity Matrix**')\n",
    "print(identity)\n",
    "print('Info: Create a square N × N identity matrix (1s on the diagonal and 0s elsewhere)\\n\\\n",
    "      you can also use \"np.identity\" instead of \"np.eye\"')"
   ]
  },
  {
   "cell_type": "markdown",
   "id": "0b5d48d6",
   "metadata": {},
   "source": [
    "- If you want to create Arrays Based on Another Array's Shape then use : <br>\n",
    "`zeros_like`  `ones_like`  `full_like`  `empty_like`"
   ]
  },
  {
   "cell_type": "code",
   "execution_count": 19,
   "id": "8c982a78",
   "metadata": {},
   "outputs": [
    {
     "data": {
      "text/plain": [
       "array([[0, 0, 0, 0],\n",
       "       [0, 0, 0, 0]], dtype=int32)"
      ]
     },
     "execution_count": 19,
     "metadata": {},
     "output_type": "execute_result"
    }
   ],
   "source": [
    "example = [\n",
    "    [11, 22, 33, 44],\n",
    "    [55, 66, 77, 88]\n",
    "] # the shape of this matrix is (2, 4)\n",
    "\n",
    "shape_copy = np.zeros_like(example, dtype='int32')\n",
    "shape_copy"
   ]
  },
  {
   "cell_type": "markdown",
   "id": "809bbedd",
   "metadata": {},
   "source": [
    "##### **3- Creating Ranges using `np.arange` and `np.linspace`**"
   ]
  },
  {
   "cell_type": "markdown",
   "id": "705fcfd4",
   "metadata": {},
   "source": [
    "- `np.arange()`: <br>\n",
    "Similar to Python's built-in `range()`, <br>\n",
    "it creates an array with evenly spaced values within a defined interval, <br>\n",
    "using a specified step size."
   ]
  },
  {
   "cell_type": "code",
   "execution_count": 21,
   "id": "0cf138ec",
   "metadata": {},
   "outputs": [
    {
     "name": "stdout",
     "output_type": "stream",
     "text": [
      "[0 1 2 3 4 5 6 7 8 9]\n",
      "[0 2 4 6 8]\n"
     ]
    }
   ],
   "source": [
    "# Create an array with values from 0 up to (but not including) 10\n",
    "range_array = np.arange(10)\n",
    "print(range_array)\n",
    "\n",
    "# Create an array from 0 to 10 with a step of 2\n",
    "# ( start(Optional), end(Not optional), steps(Optional), dtype(Optional) )\n",
    "range_step_array = np.arange(0, 10, 2)\n",
    "print(range_step_array)"
   ]
  },
  {
   "cell_type": "markdown",
   "id": "f65d9484",
   "metadata": {},
   "source": [
    "- `np.linspace()` : <br>\n",
    "Creates an array with a specified number of points, <br>\n",
    "evenly spaced between a start and end value. <br>\n",
    "This is useful when you know the number of steps you want."
   ]
  },
  {
   "cell_type": "code",
   "execution_count": 23,
   "id": "5ddca0ed",
   "metadata": {},
   "outputs": [
    {
     "name": "stdout",
     "output_type": "stream",
     "text": [
      "[0.   0.25 0.5  0.75 1.  ]\n"
     ]
    }
   ],
   "source": [
    "# Here i say i want an array has 5 numbers from 0 t0 1 including the 0 and 1\n",
    "linspace_array = np.linspace(0, 1, 5)\n",
    "print(linspace_array)"
   ]
  },
  {
   "cell_type": "markdown",
   "id": "e6e2823e",
   "metadata": {},
   "source": [
    "- The arguments in `np.linspace(0, 1, 5)` are as follows: <br>\n",
    "\n",
    "    - `start=0` : This is the starting value of the sequence. <br>\n",
    "    The first number in the resulting array will be 0.\n",
    "\n",
    "    - `stop=1` : This is the ending value of the sequence. <br>\n",
    "    Unlike `np.arange()` , this value is included in the array by default.\n",
    "\n",
    "    - `num=5` : This is the total number of evenly spaced samples <br>\n",
    "     to generate between the start and stop values."
   ]
  },
  {
   "cell_type": "markdown",
   "id": "02107432",
   "metadata": {},
   "source": [
    "#### <span style=\"font-family: 'Times New Roman', Times, serif; color: #6C8AE5;\">**- Creating Arrays using `random` module**</span> <br>"
   ]
  },
  {
   "cell_type": "markdown",
   "id": "112d3260",
   "metadata": {},
   "source": [
    "- Generating random **integer** numbers using `random.randint()`"
   ]
  },
  {
   "cell_type": "code",
   "execution_count": 61,
   "id": "a962de65",
   "metadata": {},
   "outputs": [
    {
     "data": {
      "text/plain": [
       "array([[2, 2],\n",
       "       [8, 1]], dtype=int32)"
      ]
     },
     "execution_count": 61,
     "metadata": {},
     "output_type": "execute_result"
    }
   ],
   "source": [
    "# you pass it the range you want the numbers from and the shape you want\n",
    "# the start of the range is included..\n",
    "random_integers = np.random.randint(1, 10, (2, 2))\n",
    "random_integers"
   ]
  },
  {
   "cell_type": "markdown",
   "id": "4cffc4e7",
   "metadata": {},
   "source": [
    "- Generating Random **Float** numbers using `random.rand()` <br>\n",
    "    it creates random values from a **uniform distribution** over the interval [0, 1]."
   ]
  },
  {
   "cell_type": "code",
   "execution_count": 41,
   "id": "b1410b98",
   "metadata": {},
   "outputs": [
    {
     "data": {
      "text/plain": [
       "array([[0.37303857, 0.70200959, 0.73628823],\n",
       "       [0.47922512, 0.16943899, 0.12117598],\n",
       "       [0.8663779 , 0.53343944, 0.3870588 ],\n",
       "       [0.58420995, 0.16944955, 0.79428163],\n",
       "       [0.77858601, 0.84859303, 0.95717658]])"
      ]
     },
     "execution_count": 41,
     "metadata": {},
     "output_type": "execute_result"
    }
   ],
   "source": [
    "# returns a random float between 0 and 1.\n",
    "# you only pass the shape you want\n",
    "random_floats = np.random.rand(5, 3)\n",
    "random_floats"
   ]
  },
  {
   "cell_type": "markdown",
   "id": "3ccd5a03",
   "metadata": {},
   "source": [
    "- **Normal Distribution** with `np.random.randn()` and `np.random.normal()`"
   ]
  },
  {
   "cell_type": "markdown",
   "id": "0e240314",
   "metadata": {},
   "source": [
    "`np.random.randn()` : <br>\n",
    "This creates an array of a given shape with values <br>\n",
    "from a standard **normal distribution**, <br>\n",
    "which has a **mean of 0** and a **standard deviation of 1**."
   ]
  },
  {
   "cell_type": "code",
   "execution_count": 64,
   "id": "919bf29f",
   "metadata": {},
   "outputs": [
    {
     "data": {
      "text/plain": [
       "array([[-0.91208476,  0.11513409, -1.41796638],\n",
       "       [-0.42783113,  1.71508567,  0.09943099],\n",
       "       [-0.83042327, -1.12109982, -0.71944898]])"
      ]
     },
     "execution_count": 64,
     "metadata": {},
     "output_type": "execute_result"
    }
   ],
   "source": [
    "# Create a 3x3 array with values from a standard normal distribution\n",
    "random_normal = np.random.randn(3, 3)\n",
    "random_normal"
   ]
  },
  {
   "cell_type": "markdown",
   "id": "f633acbf",
   "metadata": {},
   "source": [
    "`np.random.normal()` : <br>\n",
    "This is a more general function that allows you <br>\n",
    "to specify the mean (loc) and standard deviation (scale) of the distribution."
   ]
  },
  {
   "cell_type": "code",
   "execution_count": 65,
   "id": "fb48f01f",
   "metadata": {},
   "outputs": [
    {
     "data": {
      "text/plain": [
       "array([[108.57871971,  83.79207836,  92.50423121],\n",
       "       [ 93.56451275, 109.69191807,  95.45615977],\n",
       "       [ 85.49439705,  90.40071365, 110.52386645]])"
      ]
     },
     "execution_count": 65,
     "metadata": {},
     "output_type": "execute_result"
    }
   ],
   "source": [
    "# Create a 3x3 array with values from a normal distribution with a mean of 100 and a standard deviation of 10\n",
    "random_normal2 = np.random.normal(loc=100, scale=10, size=(3, 3))\n",
    "random_normal2"
   ]
  },
  {
   "cell_type": "markdown",
   "id": "0973305e",
   "metadata": {},
   "source": [
    "#### <span style=\"font-family: 'Times New Roman', Times, serif; color: #6C8AE5;\">**- Some array attributes you can use**</span> <br>"
   ]
  },
  {
   "cell_type": "code",
   "execution_count": 67,
   "id": "525ebdd3",
   "metadata": {},
   "outputs": [
    {
     "data": {
      "text/plain": [
       "array([[79,  1, 83],\n",
       "       [71, 67, 45],\n",
       "       [12, 86, 13],\n",
       "       [37, 80, 62]], dtype=int32)"
      ]
     },
     "execution_count": 67,
     "metadata": {},
     "output_type": "execute_result"
    }
   ],
   "source": [
    "arr = np.random.randint(1, 101, (4, 3))\n",
    "arr"
   ]
  },
  {
   "cell_type": "code",
   "execution_count": null,
   "id": "efd5daca",
   "metadata": {},
   "outputs": [
    {
     "name": "stdout",
     "output_type": "stream",
     "text": [
      "The dimensions of this array are: \"2 dimensions\"\n",
      "The data type of this array is: \"int32\"\n",
      "The shape of this array is: \"(4, 3)\" (rows=4, columns=3)\n",
      "This array has: \"12\" values\n"
     ]
    }
   ],
   "source": [
    "# if you want to know the dimensions of the array\n",
    "print(f'The dimensions of this array are: \"{arr.ndim} dimensions\"')\n",
    "\n",
    "# if you want to know its data type\n",
    "print(f'The data type of this array is: \"{arr.dtype}\"')\n",
    "\n",
    "# if you want to know its shape \n",
    "print(f'The shape of this array is: \"{arr.shape}\" (rows={arr.shape[0]}, columns={arr.shape[1]})')\n",
    "\n",
    "# if you want to know how much values in the array\n",
    "print(f'This array has: \"{arr.size}\" values')"
   ]
  },
  {
   "cell_type": "markdown",
   "id": "0efd40fc",
   "metadata": {},
   "source": [
    "#### <span style=\"font-family: 'Times New Roman', Times, serif; color: #6C8AE5;\">**- Copy vs. View**</span> <br>"
   ]
  },
  {
   "cell_type": "markdown",
   "id": "ac28eae1",
   "metadata": {},
   "source": [
    "* <span style=\"font-size: 1.5em; font-family: 'Times New Roman', Times, serif; \">The Difference Between Copy and View</span> <br>\n",
    "\n",
    "    - The main difference between a copy and a view of an array <br>\n",
    "    is that the copy is a new array, and the view is just a view of the original array.\n",
    "\n",
    "    - **The copy** owns the data and any changes made to the copy will not affect original array,<br>\n",
    "     and any changes made to the original array will not affect the copy.\n",
    "\n",
    "    - **The view** does not own the data and any changes made to the view will affect the original array,<br>\n",
    "     and any changes made to the original array will affect the view."
   ]
  },
  {
   "cell_type": "code",
   "execution_count": null,
   "id": "54f00cf7",
   "metadata": {},
   "outputs": [
    {
     "name": "stdout",
     "output_type": "stream",
     "text": [
      "Original Array\n",
      "[42  2  3  4  5] \n",
      "\n",
      "The copy\n",
      "[1 2 3 4 5]\n"
     ]
    }
   ],
   "source": [
    "# Using .copy()\n",
    "\n",
    "arr = np.array([1, 2, 3, 4, 5])\n",
    "x = arr.copy()\n",
    "arr[0] = 42\n",
    "\n",
    "print('Original Array')\n",
    "print(arr, '\\n')\n",
    "\n",
    "print('The copy')\n",
    "print(x)"
   ]
  },
  {
   "cell_type": "code",
   "execution_count": 279,
   "id": "c6fdcb5e",
   "metadata": {},
   "outputs": [
    {
     "name": "stdout",
     "output_type": "stream",
     "text": [
      "Original Array\n",
      "[42  2  3  4  5] \n",
      "\n",
      "The copy\n",
      "[42  2  3  4  5]\n"
     ]
    }
   ],
   "source": [
    "# Using .view()\n",
    "\n",
    "arr = np.array([1, 2, 3, 4, 5])\n",
    "x = arr.view()\n",
    "arr[0] = 42\n",
    "\n",
    "print('Original Array')\n",
    "print(arr, '\\n')\n",
    "\n",
    "print('The copy')\n",
    "print(x)"
   ]
  },
  {
   "cell_type": "markdown",
   "id": "839f8ba1",
   "metadata": {},
   "source": [
    "#### <span style=\"font-family: 'Times New Roman', Times, serif; color: #6C8AE5;\">**- Data Types**</span> <br>"
   ]
  },
  {
   "cell_type": "markdown",
   "id": "b268198d",
   "metadata": {},
   "source": [
    "**If you want to read more -->** [Here is the link for the book part](https://wesmckinney.com/book/numpy-basics#numpy_dtypes)"
   ]
  },
  {
   "cell_type": "markdown",
   "id": "536bff0b",
   "metadata": {},
   "source": [
    "- **Integer Types**\n",
    "\n",
    "| Data Type | Description |\n",
    "|---|---|\n",
    "| `int8`  `int16`  <br>  `int32`   `int64` | **Signed** integers<br>(can be negative, zero, or positive) |\n",
    "| `uint8` `uint16`<br>`uint32` `uint64` | **Unsigned** integers<br>(can only be zero or positive) |"
   ]
  },
  {
   "cell_type": "markdown",
   "id": "529f80ee",
   "metadata": {},
   "source": [
    "- **Floating-point Types**\n",
    "\n",
    "| Data Type | Description |\n",
    "|---|---|\n",
    "| `float32` | **Single-precision** float. Uses less memory but is less precise. |\n",
    "| **`float64`** | **Double-precision** float. The default type for Python floats. **Use this for most calculations.** |"
   ]
  },
  {
   "cell_type": "markdown",
   "id": "1831d459",
   "metadata": {},
   "source": [
    "- **Other common Types**\n",
    "\n",
    "| Data Type | Description & Use Case |\n",
    "|---|---|\n",
    "| **`bool`** | Holds `True` or `False` values. Essential for filtering data. |\n",
    "| `object` | Can hold any Python object. Less efficient and used as a last resort. |\n",
    "| `string_` | For fixed-length text (ASCII characters). |\n",
    "| `unicode_` | For fixed-length text that supports international characters (Unicode). |"
   ]
  },
  {
   "cell_type": "markdown",
   "id": "986ceb87",
   "metadata": {},
   "source": [
    "- For an example in computer vision we use `np.uint8` for images which represent unsigned integer values from 0 to 255\n",
    "\n",
    "    ```python\n",
    "    image_data = np.array([[10, 20, 250, 255],\n",
    "                        [30, 45, 180, 200],\n",
    "                        [50, 60, 150, 175],\n",
    "                        [80, 90, 110, 120]], dtype=np.uint8)\n",
    "    ```"
   ]
  },
  {
   "cell_type": "markdown",
   "id": "b41cbfc2",
   "metadata": {},
   "source": [
    "#### <span style=\"font-family: 'Times New Roman', Times, serif; color: #6C8AE5;\">**- Casting (Changing an Array's Data Type using `np.astype()`)**</span> <br>"
   ]
  },
  {
   "cell_type": "code",
   "execution_count": 70,
   "id": "ba0c7927",
   "metadata": {},
   "outputs": [
    {
     "name": "stdout",
     "output_type": "stream",
     "text": [
      "Original array (string): ['1' '2' '3' '4' '5']\n",
      "Original dtype: <U1\n",
      "Converted array (float): [1. 2. 3. 4. 5.]\n",
      "Converted dtype: float64\n"
     ]
    }
   ],
   "source": [
    "arr_str = np.array(['1', '2', '3', '4', '5'])\n",
    "print(\"Original array (string):\", arr_str)\n",
    "print(\"Original dtype:\", arr_str.dtype)\n",
    "\n",
    "# Convert the array to float\n",
    "arr_float = arr_str.astype(float)\n",
    "print(\"Converted array (float):\", arr_float)\n",
    "print(\"Converted dtype:\", arr_float.dtype)"
   ]
  },
  {
   "cell_type": "markdown",
   "id": "df077bcd",
   "metadata": {},
   "source": [
    "### <span style=\"font-size: 1.5em; font-family: 'Times New Roman', Times, serif; color: #43B2DB;\">**3. Advanced Random Number Generation**</span> <br>"
   ]
  },
  {
   "cell_type": "markdown",
   "id": "d71f97cd",
   "metadata": {},
   "source": [
    "- **Data Shuffling**"
   ]
  },
  {
   "cell_type": "markdown",
   "id": "73b698c2",
   "metadata": {},
   "source": [
    "`np.random.shuffle()` : This function shuffles an array in-place, meaning it modifies the original array."
   ]
  },
  {
   "cell_type": "code",
   "execution_count": null,
   "id": "797c807d",
   "metadata": {},
   "outputs": [
    {
     "name": "stdout",
     "output_type": "stream",
     "text": [
      "Shuffled array (in-place): [5 3 1 4 2]\n"
     ]
    }
   ],
   "source": [
    "array = np.array([1, 2, 3, 4, 5])\n",
    "np.random.shuffle(array)\n",
    "print(\"Shuffled array (in-place):\", array)"
   ]
  },
  {
   "cell_type": "markdown",
   "id": "2032b1a2",
   "metadata": {},
   "source": [
    "`np.random.permutation()` : This function returns a new, shuffled copy of an array, leaving the original array unchanged."
   ]
  },
  {
   "cell_type": "code",
   "execution_count": 196,
   "id": "e3a6568a",
   "metadata": {},
   "outputs": [
    {
     "name": "stdout",
     "output_type": "stream",
     "text": [
      "Original array: [1 2 3 4 5]\n",
      "Permuted array (new copy): [5 3 2 1 4]\n"
     ]
    }
   ],
   "source": [
    "array = np.array([1, 2, 3, 4, 5])\n",
    "shuffled_arr = np.random.permutation(array)\n",
    "print(\"Original array:\", array)\n",
    "print(\"Permuted array (new copy):\", shuffled_arr)"
   ]
  },
  {
   "cell_type": "markdown",
   "id": "063c9c37",
   "metadata": {},
   "source": [
    "- `np.random.seed()` <br>\n",
    "Normally, when you ask for random numbers, **you get a different set every time**. <br> \n",
    "By setting a seed with a specific number (could be any integer number), <br>\n",
    " you ensure that **you will get the exact same sequence of \"random\" numbers each time you run the code**.\n"
   ]
  },
  {
   "cell_type": "code",
   "execution_count": 205,
   "id": "07f95f0b",
   "metadata": {},
   "outputs": [
    {
     "name": "stdout",
     "output_type": "stream",
     "text": [
      "Without a seed:\n",
      "[0.59865848 0.15601864 0.15599452]\n",
      "[0.05808361 0.86617615 0.60111501]\n",
      "\n",
      "With a seed:\n",
      "[0.5488135  0.71518937 0.60276338]\n",
      "[0.37454012 0.95071431 0.73199394]\n"
     ]
    }
   ],
   "source": [
    "# Generate random numbers without a seed\n",
    "print(\"Without a seed:\")\n",
    "print(np.random.rand(3))\n",
    "print(np.random.rand(3))\n",
    "\n",
    "# Generate random numbers with a seed\n",
    "print(\"\\nWith a seed:\")\n",
    "np.random.seed(0)\n",
    "print(np.random.rand(3))\n",
    "np.random.seed(42)\n",
    "print(np.random.rand(3))"
   ]
  },
  {
   "cell_type": "markdown",
   "id": "43d3d598",
   "metadata": {},
   "source": [
    "### <span style=\"font-size: 1.5em; font-family: 'Times New Roman', Times, serif; color: #43B2DB;\">**4. Array Manipulation and Indexing**</span> <br>"
   ]
  },
  {
   "cell_type": "markdown",
   "id": "36da70be",
   "metadata": {},
   "source": [
    "#### <span style=\"font-family: 'Times New Roman', Times, serif; color: #6C8AE5;\">**- Basic Indexing & Slicing**</span> <br>"
   ]
  },
  {
   "cell_type": "markdown",
   "id": "f92fd700",
   "metadata": {},
   "source": [
    "##### **Basic indexing**"
   ]
  },
  {
   "cell_type": "markdown",
   "id": "4cde005d",
   "metadata": {},
   "source": [
    "- Accessing single elements in 1D and 2D arrays."
   ]
  },
  {
   "cell_type": "code",
   "execution_count": 206,
   "id": "344681ca",
   "metadata": {},
   "outputs": [
    {
     "name": "stdout",
     "output_type": "stream",
     "text": [
      "Array: [0 1 2 3 4 5 6 7 8 9]\n",
      "First element: 0\n",
      "Last element: 9\n"
     ]
    }
   ],
   "source": [
    "# 1D Arrays: For one-dimensional arrays, you provide a single index.\n",
    "\n",
    "# Create a 1D array\n",
    "arr1d = np.arange(10)\n",
    "print(\"Array:\", arr1d)\n",
    "\n",
    "# Get the first element\n",
    "print(\"First element:\", arr1d[0]) \n",
    "\n",
    "# Get the last element using negative indexing\n",
    "print(\"Last element:\", arr1d[-1]) "
   ]
  },
  {
   "cell_type": "markdown",
   "id": "e2b2cbc8",
   "metadata": {},
   "source": [
    "- 2D Arrays (Matrices): For two-dimensional arrays, you use the syntax **array_name[row, column]**."
   ]
  },
  {
   "cell_type": "code",
   "execution_count": 209,
   "id": "1091402d",
   "metadata": {},
   "outputs": [
    {
     "name": "stdout",
     "output_type": "stream",
     "text": [
      "2D Array:\n",
      " [[1 2 3]\n",
      " [4 5 6]\n",
      " [7 8 9]] \n",
      "\n",
      "Element at [row = 1, columns = 2]: 6\n"
     ]
    }
   ],
   "source": [
    "# Create a 2D array\n",
    "arr2d = np.array([\n",
    "    [1, 2, 3],\n",
    "    [4, 5, 6],\n",
    "    [7, 8, 9]\n",
    "    ])\n",
    "\n",
    "print(\"2D Array:\\n\", arr2d, '\\n')\n",
    "\n",
    "# Get the element at row 1, column 2 (the number 6)\n",
    "print(\"Element at [row = 1, columns = 2]:\", arr2d[1, 2]) #"
   ]
  },
  {
   "cell_type": "markdown",
   "id": "30cdca76",
   "metadata": {},
   "source": [
    "##### **Slicing**"
   ]
  },
  {
   "cell_type": "markdown",
   "id": "2617921a",
   "metadata": {},
   "source": [
    "- Slicing is used to extract a portion of an array. <br>\n",
    " The syntax is **[start : stop : step]**, where the stop value is not included in the final slice."
   ]
  },
  {
   "cell_type": "code",
   "execution_count": 211,
   "id": "043e7be8",
   "metadata": {},
   "outputs": [
    {
     "name": "stdout",
     "output_type": "stream",
     "text": [
      "Array: [0 1 2 3 4 5 6 7 8 9]\n",
      "Slice [2:5] --> [2 3 4]\n",
      "Slice [:3] --> [0 1 2]\n",
      "Slice [::2] --> [0 2 4 6 8]\n"
     ]
    }
   ],
   "source": [
    "# Slicing 1 dimensional array\n",
    "\n",
    "arr1d = np.arange(10)\n",
    "print(\"Array:\", arr1d)\n",
    "\n",
    "# Get elements from index 2 up to (but not including) 5\n",
    "print(\"Slice [2:5] -->\", arr1d[2:5]) #\n",
    "\n",
    "# Get the first three elements\n",
    "print(\"Slice [:3] -->\", arr1d[:3]) #\n",
    "\n",
    "# Get every other element from the entire array\n",
    "print(\"Slice [::2] -->\", arr1d[::2]) #"
   ]
  },
  {
   "cell_type": "code",
   "execution_count": 213,
   "id": "9b3316f8",
   "metadata": {},
   "outputs": [
    {
     "name": "stdout",
     "output_type": "stream",
     "text": [
      "2D Array:\n",
      " [[1 2 3]\n",
      " [4 5 6]\n",
      " [7 8 9]] \n",
      "\n",
      "Slice [:2, 1:]:\n",
      " [[2 3]\n",
      " [5 6]]\n"
     ]
    }
   ],
   "source": [
    "# Slicing 2 dimensional array\n",
    "\n",
    "arr2d = np.array([[1, 2, 3], [4, 5, 6], [7, 8, 9]])\n",
    "print(\"2D Array:\\n\", arr2d, '\\n')\n",
    "\n",
    "# Get the first two rows and columns 1 and 2\n",
    "# This results in a 2x2 matrix\n",
    "print(\"Slice [:2, 1:]:\\n\", arr2d[:2, 1:])"
   ]
  },
  {
   "cell_type": "markdown",
   "id": "ce9bb290",
   "metadata": {},
   "source": [
    "#### <span style=\"font-family: 'Times New Roman', Times, serif; color: #6C8AE5;\">**- Advanced Indexing**</span> <br>"
   ]
  },
  {
   "cell_type": "markdown",
   "id": "6f0c5bbf",
   "metadata": {},
   "source": [
    "##### **Fancy Indexing**"
   ]
  },
  {
   "cell_type": "markdown",
   "id": "56f66da5",
   "metadata": {},
   "source": [
    "- Fancy Indexing : allows you to access multiple array elements at once by passing a list or array of indices."
   ]
  },
  {
   "cell_type": "code",
   "execution_count": 215,
   "id": "6e88da21",
   "metadata": {},
   "outputs": [
    {
     "name": "stdout",
     "output_type": "stream",
     "text": [
      "[82 92 60]\n"
     ]
    }
   ],
   "source": [
    "arr1d = np.array([51, 92, 14, 71, 60, 20, 82, 86, 74, 74])\n",
    "\n",
    "# Access elements at indices 1, 5, and 2\n",
    "indices = [6, 1, 4]\n",
    "print(arr1d[indices])"
   ]
  },
  {
   "cell_type": "markdown",
   "id": "bd556e5f",
   "metadata": {},
   "source": [
    "- For 2D arrays, you can pass a list of row indices and a list of column indices to access specific elements."
   ]
  },
  {
   "cell_type": "code",
   "execution_count": 218,
   "id": "47e318e5",
   "metadata": {},
   "outputs": [
    {
     "name": "stdout",
     "output_type": "stream",
     "text": [
      "[[ 0  1  2  3]\n",
      " [ 4  5  6  7]\n",
      " [ 8  9 10 11]] \n",
      "\n",
      "The elements at (0, 2), (1, 1), and (2, 3)\n",
      "[ 2  5 11]\n"
     ]
    }
   ],
   "source": [
    "arr2d = np.arange(12).reshape((3, 4))\n",
    "print(arr2d, '\\n')\n",
    "rows = [0, 1, 2]\n",
    "cols = [2, 1, 3]\n",
    "\n",
    "# Access elements at (0, 2), (1, 1), and (2, 3)\n",
    "print(f'The elements at (0, 2), (1, 1), and (2, 3)')\n",
    "print(arr2d[rows, cols])"
   ]
  },
  {
   "cell_type": "markdown",
   "id": "ec6ef91e",
   "metadata": {},
   "source": [
    "##### **Boolean Indexing**"
   ]
  },
  {
   "cell_type": "markdown",
   "id": "5dfb4147",
   "metadata": {},
   "source": [
    "- Boolean indexing lets you filter an array by passing a boolean array (mask) of the same shape. Only elements corresponding to True values are returned."
   ]
  },
  {
   "cell_type": "code",
   "execution_count": 219,
   "id": "e4ecec4d",
   "metadata": {},
   "outputs": [
    {
     "name": "stdout",
     "output_type": "stream",
     "text": [
      "Boolean Mask:\n",
      " [[False False False]\n",
      " [False False  True]\n",
      " [ True  True  True]]\n",
      "\n",
      "Selected Elements: [6 7 8 9]\n"
     ]
    }
   ],
   "source": [
    "arr2d = np.array([[1, 2, 3], [4, 5, 6], [7, 8, 9]])\n",
    "\n",
    "# Create a boolean mask for values greater than 5\n",
    "mask = arr2d > 5\n",
    "print(\"Boolean Mask:\\n\", mask)\n",
    "\n",
    "# Use the mask to select elements\n",
    "print(\"\\nSelected Elements:\", arr2d[mask])"
   ]
  },
  {
   "cell_type": "code",
   "execution_count": 220,
   "id": "21ee1ed6",
   "metadata": {},
   "outputs": [
    {
     "name": "stdout",
     "output_type": "stream",
     "text": [
      "\n",
      "Modified Array:\n",
      " [[0 0 0]\n",
      " [0 5 6]\n",
      " [7 8 9]]\n"
     ]
    }
   ],
   "source": [
    "# You can also use it to set values\n",
    "\n",
    "# Set all values less than 5 to zero\n",
    "arr2d[arr2d < 5] = 0\n",
    "print(\"\\nModified Array:\\n\", arr2d)"
   ]
  },
  {
   "cell_type": "markdown",
   "id": "dbf1b823",
   "metadata": {},
   "source": [
    "#### <span style=\"font-family: 'Times New Roman', Times, serif; color: #6C8AE5;\">**- Reshaping Arrays**</span> <br>"
   ]
  },
  {
   "cell_type": "markdown",
   "id": "8b0d6224",
   "metadata": {},
   "source": [
    "- Using `reshape()` <br>\n",
    "    allows you to change the shape of an array without changing its data.<br>\n",
    "     You can also use `-1` as a wildcard to **automatically calculate the dimension size**."
   ]
  },
  {
   "cell_type": "code",
   "execution_count": 221,
   "id": "09dd7065",
   "metadata": {},
   "outputs": [
    {
     "name": "stdout",
     "output_type": "stream",
     "text": [
      "Reshaped Array (3x4):\n",
      " [[ 0  1  2  3]\n",
      " [ 4  5  6  7]\n",
      " [ 8  9 10 11]]\n",
      "\n",
      "Reshaped with -1 (2x6):\n",
      " [[ 0  1  2  3  4  5]\n",
      " [ 6  7  8  9 10 11]]\n"
     ]
    }
   ],
   "source": [
    "arr = np.arange(12)\n",
    "reshaped_arr = arr.reshape(3, 4)\n",
    "print(\"Reshaped Array (3x4):\\n\", reshaped_arr)\n",
    "\n",
    "# Use -1 to automatically determine the number of columns\n",
    "reshaped_auto = arr.reshape(2, -1)\n",
    "print(\"\\nReshaped with -1 (2x6):\\n\", reshaped_auto)"
   ]
  },
  {
   "cell_type": "markdown",
   "id": "32e00650",
   "metadata": {},
   "source": [
    "- Flattening Arrays with `ravel()` and `flatten()`\n",
    "\n",
    "    Are used to convert a multi-dimensional array into a 1D array.<br>\n",
    "     The key difference is that `ravel()` returns a view of the original array (if possible),<br>\n",
    "      while `flatten()` always returns a copy."
   ]
  },
  {
   "cell_type": "code",
   "execution_count": 230,
   "id": "fd1a6ad2",
   "metadata": {},
   "outputs": [
    {
     "name": "stdout",
     "output_type": "stream",
     "text": [
      "Raveled Array: [1 2 3 4 5 6]\n",
      "Flattened Array: [1 2 3 4 5 6]\n"
     ]
    }
   ],
   "source": [
    "arr2d = np.array([[1, 2, 3], [4, 5, 6]])\n",
    "\n",
    "# Using ravel()\n",
    "raveled_arr = arr2d.ravel()\n",
    "print(\"Raveled Array:\", raveled_arr)\n",
    "\n",
    "# Using flatten()\n",
    "flattened_arr = arr2d.flatten()\n",
    "print(\"Flattened Array:\", flattened_arr)"
   ]
  },
  {
   "cell_type": "code",
   "execution_count": 233,
   "id": "868cc90f",
   "metadata": {},
   "outputs": [
    {
     "name": "stdout",
     "output_type": "stream",
     "text": [
      "Original Array:\n",
      " [[99  2  3]\n",
      " [ 4  5  6]]\n",
      "Flattened Array (unaffected):\n",
      " [1 2 3 4 5 6]\n",
      "Raveled Array (affected):\n",
      " [99  2  3  4  5  6]\n"
     ]
    }
   ],
   "source": [
    "# Original 2D array\n",
    "arr2d = np.array([[1, 2, 3], [4, 5, 6]])\n",
    "\n",
    "# Create flattened and raveled versions\n",
    "flattened_arr = arr2d.flatten()\n",
    "raveled_arr = arr2d.ravel()\n",
    "\n",
    "# Modify the original array\n",
    "arr2d[0, 0] = 99\n",
    "\n",
    "print(\"Original Array:\\n\", arr2d)\n",
    "print(\"Flattened Array (unaffected):\\n\", flattened_arr)\n",
    "print(\"Raveled Array (affected):\\n\", raveled_arr)"
   ]
  },
  {
   "cell_type": "markdown",
   "id": "a769db83",
   "metadata": {},
   "source": [
    "- Adding New Axes with `np.newaxis`<br>\n",
    "    is used to increase the dimension of an existing array by one dimension when used once."
   ]
  },
  {
   "cell_type": "code",
   "execution_count": 232,
   "id": "f5f6a3ae",
   "metadata": {},
   "outputs": [
    {
     "name": "stdout",
     "output_type": "stream",
     "text": [
      "Original Shape: (5,)\n",
      "Row Vector Shape: (1, 5)\n",
      "[[1 2 3 4 5]]\n",
      "\n",
      "Column Vector Shape: (5, 1)\n",
      "[[1]\n",
      " [2]\n",
      " [3]\n",
      " [4]\n",
      " [5]]\n"
     ]
    }
   ],
   "source": [
    "arr1d = np.array([1, 2, 3, 4, 5])\n",
    "print(\"Original Shape:\", arr1d.shape)\n",
    "\n",
    "# Convert to a row vector\n",
    "row_vector = arr1d[np.newaxis, :]\n",
    "print(\"Row Vector Shape:\", row_vector.shape)\n",
    "print(row_vector)\n",
    "\n",
    "print()\n",
    "# Convert to a column vector\n",
    "col_vector = arr1d[:, np.newaxis]\n",
    "print(\"Column Vector Shape:\", col_vector.shape)\n",
    "print(col_vector)"
   ]
  },
  {
   "cell_type": "markdown",
   "id": "300871fc",
   "metadata": {},
   "source": [
    "#### <span style=\"font-family: 'Times New Roman', Times, serif; color: #6C8AE5;\">**- Combining and Splitting Arrays**</span> <br>"
   ]
  },
  {
   "cell_type": "markdown",
   "id": "32785a63",
   "metadata": {},
   "source": [
    "##### **Joining arrays**"
   ]
  },
  {
   "cell_type": "markdown",
   "id": "4daef80b",
   "metadata": {},
   "source": [
    "- `np.concatenate()`"
   ]
  },
  {
   "cell_type": "code",
   "execution_count": 234,
   "id": "e038d4f2",
   "metadata": {},
   "outputs": [
    {
     "data": {
      "text/plain": [
       "array([1, 2, 3, 3, 2, 1])"
      ]
     },
     "execution_count": 234,
     "metadata": {},
     "output_type": "execute_result"
    }
   ],
   "source": [
    "# Joining 1 dimensional arrays\n",
    "\n",
    "x = np.array([1, 2, 3])\n",
    "y = np.array([3, 2, 1])\n",
    "np.concatenate([x, y])"
   ]
  },
  {
   "cell_type": "markdown",
   "id": "dc946e75",
   "metadata": {},
   "source": [
    "2D Arrays: For 2D arrays, you can specify the axis along which to join."
   ]
  },
  {
   "cell_type": "code",
   "execution_count": null,
   "id": "55950568",
   "metadata": {},
   "outputs": [
    {
     "name": "stdout",
     "output_type": "stream",
     "text": [
      "[[1 2 3]\n",
      " [4 5 6]\n",
      " [1 2 3]\n",
      " [4 5 6]]\n"
     ]
    }
   ],
   "source": [
    "# Axis 0 --> Joins along the rows (stacks vertically).\n",
    "\n",
    "grid = np.array([[1, 2, 3], [4, 5, 6]])\n",
    "print(np.concatenate([grid, grid], axis=0))"
   ]
  },
  {
   "cell_type": "code",
   "execution_count": 236,
   "id": "2e07ba75",
   "metadata": {},
   "outputs": [
    {
     "name": "stdout",
     "output_type": "stream",
     "text": [
      "[[1 2 3 1 2 3]\n",
      " [4 5 6 4 5 6]]\n"
     ]
    }
   ],
   "source": [
    "# axis = 1 --> Joins along the columns (stacks horizontally).\n",
    "\n",
    "print(np.concatenate([grid, grid], axis=1))"
   ]
  },
  {
   "cell_type": "markdown",
   "id": "2ced57e8",
   "metadata": {},
   "source": [
    "- `np.vstack()` and `np.hstack()`"
   ]
  },
  {
   "cell_type": "code",
   "execution_count": 237,
   "id": "2adcaf12",
   "metadata": {},
   "outputs": [
    {
     "name": "stdout",
     "output_type": "stream",
     "text": [
      "[[1 2 3]\n",
      " [9 8 7]\n",
      " [6 5 4]]\n"
     ]
    }
   ],
   "source": [
    "# np.vstack(): Stacks arrays vertically (equivalent to np.concatenate with axis=0).\n",
    "\n",
    "x = np.array([1, 2, 3])\n",
    "grid = np.array([[9, 8, 7], [6, 5, 4]])\n",
    "print(np.vstack([x, grid]))"
   ]
  },
  {
   "cell_type": "code",
   "execution_count": 241,
   "id": "7902f810",
   "metadata": {},
   "outputs": [
    {
     "name": "stdout",
     "output_type": "stream",
     "text": [
      "[[99  9  8  7]\n",
      " [99  6  5  4]]\n"
     ]
    }
   ],
   "source": [
    "# np.hstack(): Stacks arrays horizontally (equivalent to np.concatenate with axis=1).\n",
    "\n",
    "grid = np.array([[9, 8, 7], [6, 5, 4]])\n",
    "y = np.array([[99], [99]])\n",
    "print(np.hstack([y, grid]))"
   ]
  },
  {
   "cell_type": "markdown",
   "id": "3328ad8c",
   "metadata": {},
   "source": [
    "##### **Splitting arrays**"
   ]
  },
  {
   "cell_type": "markdown",
   "id": "d6e384a0",
   "metadata": {},
   "source": [
    "- `np.split()` : Splits an array into multiple sub-arrays"
   ]
  },
  {
   "cell_type": "code",
   "execution_count": 242,
   "id": "59f29558",
   "metadata": {},
   "outputs": [
    {
     "name": "stdout",
     "output_type": "stream",
     "text": [
      "[1 2 3] [99 99] [3 2 1]\n"
     ]
    }
   ],
   "source": [
    "# 1D Arrays: You can split a 1D array by providing a list of indices where the splits should occur.\n",
    "\n",
    "x = [1, 2, 3, 99, 99, 3, 2, 1]\n",
    "x1, x2, x3 = np.split(x, [3, 5])\n",
    "print(x1, x2, x3)"
   ]
  },
  {
   "cell_type": "markdown",
   "id": "afff38f4",
   "metadata": {},
   "source": [
    "- `np.vsplit()` : Splits an array vertically (along rows)."
   ]
  },
  {
   "cell_type": "code",
   "execution_count": 253,
   "id": "390aabd2",
   "metadata": {},
   "outputs": [
    {
     "name": "stdout",
     "output_type": "stream",
     "text": [
      "This is the matrix before splitting\n",
      "[[ 0  1  2  3]\n",
      " [ 4  5  6  7]\n",
      " [ 8  9 10 11]\n",
      " [12 13 14 15]] \n",
      "\n",
      "**The matrix after splitting**\n",
      "\n",
      "This is the upper part\n",
      "[[0 1 2 3]] \n",
      "\n",
      "This is the middle part\n",
      "[[ 4  5  6  7]\n",
      " [ 8  9 10 11]] \n",
      "\n",
      "This is the lower part\n",
      "[[12 13 14 15]]\n"
     ]
    }
   ],
   "source": [
    "grid = np.arange(16).reshape((4, 4))\n",
    "print(f'This is the matrix before splitting')\n",
    "print(grid, '\\n')\n",
    "\n",
    "upper, middle, lower = np.vsplit(grid, [1, 3])\n",
    "print('**The matrix after splitting**\\n')\n",
    "\n",
    "print(f'This is the upper part')\n",
    "print( upper, '\\n')\n",
    "\n",
    "print(f'This is the middle part')\n",
    "print(middle, '\\n')\n",
    "\n",
    "print(f'This is the lower part')\n",
    "print(lower)"
   ]
  },
  {
   "cell_type": "markdown",
   "id": "d49f4294",
   "metadata": {},
   "source": [
    "- `np.hsplit()` : Splits an array horizontally (along columns)."
   ]
  },
  {
   "cell_type": "code",
   "execution_count": 254,
   "id": "95139310",
   "metadata": {},
   "outputs": [
    {
     "name": "stdout",
     "output_type": "stream",
     "text": [
      "The left part\n",
      "[[ 0  1]\n",
      " [ 4  5]\n",
      " [ 8  9]\n",
      " [12 13]] \n",
      "\n",
      "This is the middle part\n",
      "[[ 2]\n",
      " [ 6]\n",
      " [10]\n",
      " [14]] \n",
      "\n",
      "This is the right part\n",
      "[[ 3]\n",
      " [ 7]\n",
      " [11]\n",
      " [15]]\n"
     ]
    }
   ],
   "source": [
    "grid = np.arange(16).reshape((4, 4))\n",
    "left, middle, right = np.hsplit(grid, [2, 3])\n",
    "print('The left part')\n",
    "print(left, '\\n')\n",
    "\n",
    "print('This is the middle part')\n",
    "print(middle, '\\n')\n",
    "\n",
    "print('This is the right part')\n",
    "print(right)"
   ]
  },
  {
   "cell_type": "markdown",
   "id": "b5b58117",
   "metadata": {},
   "source": [
    "### <span style=\"font-size: 1.5em; font-family: 'Times New Roman', Times, serif; color: #43B2DB;\">**5. Vectorization & Broadcasting**</span> <br>"
   ]
  },
  {
   "cell_type": "markdown",
   "id": "0e48f651",
   "metadata": {},
   "source": [
    "#### <span style=\"font-family: 'Times New Roman', Times, serif; color: #6C8AE5;\">**- Vectorization and universal functions**</span> <br>"
   ]
  },
  {
   "cell_type": "markdown",
   "id": "f2f596cb",
   "metadata": {},
   "source": [
    "* <span style=\"font-size: 1.5em; font-family: 'Times New Roman', Times, serif; color: #4e6ecdff;\">Vectorization and Universal Functions **(ufuncs)**</span> <br>\n",
    "    Vectorization is the process of applying an operation to an entire array at once,<br>\n",
    "     rather than element by element in a loop.<br>\n",
    "      NumPy achieves this using universal functions (ufuncs),<br>\n",
    "       which are functions that operate on ndarrays in an element-by-element fashion.<br>\n",
    "        This is much faster because the loops are executed in pre-compiled C code, avoiding the overhead of Python's interpreted loops."
   ]
  },
  {
   "cell_type": "markdown",
   "id": "6d928ad4",
   "metadata": {},
   "source": [
    "- I see that if you want to learn this then go and read about it and you will understand it better."
   ]
  },
  {
   "cell_type": "markdown",
   "id": "3ccabf6b",
   "metadata": {},
   "source": [
    "- **If you want to read more -->** [Here is the link for the book part](https://wesmckinney.com/book/numpy-basics#numpy_ufuncs)"
   ]
  },
  {
   "cell_type": "markdown",
   "id": "a7e13b53",
   "metadata": {},
   "source": [
    "#### <span style=\"font-family: 'Times New Roman', Times, serif; color: #6C8AE5;\">**- Broadcasting**</span> <br>"
   ]
  },
  {
   "cell_type": "markdown",
   "id": "807f9338",
   "metadata": {},
   "source": [
    "- Broadcasting is **a set of rules** that NumPy uses to perform operations on **arrays of different sizes**.<br>\n",
    " It allows for efficient computation without making explicit copies of data."
   ]
  },
  {
   "cell_type": "markdown",
   "id": "dab8bc49",
   "metadata": {},
   "source": [
    "- **Broadcasting Rules**\n",
    "    - NumPy follows these rules to determine how to handle arrays of different shapes:\n",
    "\n",
    "        - **Rule 1 :** If the two arrays differ in their number of dimensions,<br>\n",
    "         the shape of the one with fewer dimensions is padded with ones on its leading (left) side.\n",
    "\n",
    "        - **Rule 2 :** If the shape of the two arrays does not match in any dimension,<br>\n",
    "         the array with a shape equal to 1 in that dimension is stretched to match the other shape.\n",
    "\n",
    "        - **Rule 3 :** If in any dimension the sizes disagree and neither is equal to 1, an error is raised."
   ]
  },
  {
   "cell_type": "markdown",
   "id": "510c2f28",
   "metadata": {},
   "source": [
    "- Here's an example of adding a 1D array to each row of a 2D array, which demonstrates broadcasting."
   ]
  },
  {
   "cell_type": "code",
   "execution_count": 255,
   "id": "a6ef8ec4",
   "metadata": {},
   "outputs": [
    {
     "name": "stdout",
     "output_type": "stream",
     "text": [
      "Matrix (M):\n",
      " [[1. 1. 1.]\n",
      " [1. 1. 1.]\n",
      " [1. 1. 1.]]\n",
      "\n",
      "Vector (a): [0 1 2]\n",
      "\n",
      "Result (M + a):\n",
      " [[1. 2. 3.]\n",
      " [1. 2. 3.]\n",
      " [1. 2. 3.]]\n"
     ]
    }
   ],
   "source": [
    "# A 3x3 matrix\n",
    "M = np.ones((3, 3))\n",
    "\n",
    "# A 1D array (vector)\n",
    "a = np.arange(3)\n",
    "\n",
    "# Add the vector to each row of the matrix\n",
    "result = M + a\n",
    "\n",
    "print(\"Matrix (M):\\n\", M)\n",
    "print(\"\\nVector (a):\", a)\n",
    "print(\"\\nResult (M + a):\\n\", result)"
   ]
  },
  {
   "cell_type": "markdown",
   "id": "ef82dff5",
   "metadata": {},
   "source": [
    "- **Broadcasting with a Scalar** <br>\n",
    "    Broadcasting also applies to operations between an array and a single number (a scalar).<br>\n",
    "     In this case, the scalar is \"stretched\" or \"broadcast\" to match the shape of the array, and the operation is then performed element-wise."
   ]
  },
  {
   "cell_type": "code",
   "execution_count": 256,
   "id": "61573419",
   "metadata": {},
   "outputs": [
    {
     "name": "stdout",
     "output_type": "stream",
     "text": [
      "Original array: [0 1 2]\n",
      "Result after adding 5: [5 6 7]\n"
     ]
    }
   ],
   "source": [
    "# A 1D array\n",
    "arr = np.arange(3)\n",
    "print(\"Original array:\", arr)\n",
    "\n",
    "# Add 5 to each element\n",
    "result = arr + 5\n",
    "print(\"Result after adding 5:\", result)"
   ]
  },
  {
   "attachments": {
    "array_with_scaler.png": {
     "image/png": "[encoded data removed]"
    }
   },
   "cell_type": "markdown",
   "id": "c03de35d",
   "metadata": {},
   "source": [
    "![array_with_scaler.png](attachment:array_with_scaler.png)"
   ]
  },
  {
   "cell_type": "markdown",
   "id": "c27872ec",
   "metadata": {},
   "source": [
    "- **Broadcasting a Vector to a Matrix**<br>\n",
    "    Broadcasting a vector to a matrix is a common operation.<br>\n",
    "     In this case, the vector is stretched to match the shape of the matrix,<br>\n",
    "      and the operation is then performed element-wise.\n"
   ]
  },
  {
   "cell_type": "code",
   "execution_count": 257,
   "id": "e097487d",
   "metadata": {},
   "outputs": [
    {
     "name": "stdout",
     "output_type": "stream",
     "text": [
      "Matrix (M):\n",
      " [[1. 1. 1.]\n",
      " [1. 1. 1.]\n",
      " [1. 1. 1.]]\n",
      "\n",
      "Vector (a): [0 1 2]\n",
      "\n",
      "Result (M + a):\n",
      " [[1. 2. 3.]\n",
      " [1. 2. 3.]\n",
      " [1. 2. 3.]]\n"
     ]
    }
   ],
   "source": [
    "# A 3x3 matrix\n",
    "M = np.ones((3, 3))\n",
    "\n",
    "# A 1D array (vector)\n",
    "a = np.arange(3)\n",
    "\n",
    "# Add the vector to each row of the matrix\n",
    "result = M + a\n",
    "\n",
    "print(\"Matrix (M):\\n\", M)\n",
    "print(\"\\nVector (a):\", a)\n",
    "print(\"\\nResult (M + a):\\n\", result)"
   ]
  },
  {
   "attachments": {
    "matrix_with_vector.png": {
     "image/png": "[encoded data removed]"
    }
   },
   "cell_type": "markdown",
   "id": "085c6ce4",
   "metadata": {},
   "source": [
    "![matrix_with_vector.png](attachment:matrix_with_vector.png)"
   ]
  },
  {
   "cell_type": "markdown",
   "id": "0bd32968",
   "metadata": {},
   "source": [
    "- **Broadcasting a Column Vector and a Row Vector**<br>\n",
    "    Broadcasting a column vector and a row vector is a powerful feature in NumPy.<br>\n",
    "     In this case, both vectors are stretched to match the shape of a 2D matrix,<br>\n",
    "      and the operation is then performed element-wise."
   ]
  },
  {
   "cell_type": "code",
   "execution_count": 258,
   "id": "c6743ad8",
   "metadata": {},
   "outputs": [
    {
     "name": "stdout",
     "output_type": "stream",
     "text": [
      "Column Vector (a):\n",
      " [[0]\n",
      " [1]\n",
      " [2]]\n",
      "\n",
      "Row Vector (b): [0 1 2]\n",
      "\n",
      "Result (a + b):\n",
      " [[0 1 2]\n",
      " [1 2 3]\n",
      " [2 3 4]]\n"
     ]
    }
   ],
   "source": [
    "# A column vector\n",
    "a = np.arange(3).reshape((3, 1))\n",
    "\n",
    "# A row vector\n",
    "b = np.arange(3)\n",
    "\n",
    "# Add the vectors\n",
    "result = a + b\n",
    "\n",
    "print(\"Column Vector (a):\\n\", a)\n",
    "print(\"\\nRow Vector (b):\", b)\n",
    "print(\"\\nResult (a + b):\\n\", result)"
   ]
  },
  {
   "attachments": {
    "2d_vs_1d.png": {
     "image/png": "[encoded data removed]"
    }
   },
   "cell_type": "markdown",
   "id": "ed42326c",
   "metadata": {},
   "source": [
    "![2d_vs_1d.png](attachment:2d_vs_1d.png)"
   ]
  },
  {
   "cell_type": "markdown",
   "id": "8dd5669d",
   "metadata": {},
   "source": [
    "#### <span style=\"font-family: 'Times New Roman', Times, serif; color: #6C8AE5;\">**- Conditional Logic with Arrays**</span> <br>"
   ]
  },
  {
   "cell_type": "markdown",
   "id": "c8c0610a",
   "metadata": {},
   "source": [
    "- NumPy allows you to perform conditional logic on entire arrays without writing explicit loops."
   ]
  },
  {
   "cell_type": "markdown",
   "id": "14788290",
   "metadata": {},
   "source": [
    "- `np.where()`\n",
    "    - The np.where() function is the vectorized equivalent of an if-else statement.<br>\n",
    "    It allows you to produce a new array where the values are chosen from two options based on a condition.\n",
    "\n",
    "    **The syntax is :** \n",
    "    ```python\n",
    "    np.where(condition, value_if_true, value_if_false)\n",
    "    ```\n",
    "    "
   ]
  },
  {
   "cell_type": "code",
   "execution_count": 260,
   "id": "2793bb2d",
   "metadata": {},
   "outputs": [
    {
     "name": "stdout",
     "output_type": "stream",
     "text": [
      "Original array:  [ 5  6 -1 -6  8 10 20]\n",
      "Result after np.where:  [ 5  6  0  0  8 10 20]\n"
     ]
    }
   ],
   "source": [
    "arr = np.array([5, 6, -1, -6, 8, 10, 20])\n",
    "\n",
    "# Where the condition (arr < 0) is true, replace the value with 0,\n",
    "# otherwise, keep the original value from the array.\n",
    "result = np.where(arr < 0, 0, arr)\n",
    "\n",
    "print(\"Original array: \", arr)\n",
    "print(\"Result after np.where: \", result)"
   ]
  },
  {
   "cell_type": "markdown",
   "id": "b9669e5b",
   "metadata": {},
   "source": [
    "- Modifying Values in Place with **Boolean Masks**\n",
    "    - A powerful and concise way to modify values is by using a boolean mask.<br>\n",
    "     You can use a condition directly inside the square brackets to select elements and assign a new value to them."
   ]
  },
  {
   "cell_type": "code",
   "execution_count": 261,
   "id": "1114893d",
   "metadata": {},
   "outputs": [
    {
     "name": "stdout",
     "output_type": "stream",
     "text": [
      "Original data:\n",
      " [[ 4  7]\n",
      " [ 0  2]\n",
      " [-5  6]\n",
      " [ 0  0]]\n",
      "\n",
      "Data after masking:\n",
      " [[4 7]\n",
      " [0 2]\n",
      " [0 6]\n",
      " [0 0]]\n"
     ]
    }
   ],
   "source": [
    "# Create an array with some negative values\n",
    "data = np.array([[4, 7], [0, 2], [-5, 6], [0, 0]])\n",
    "print(\"Original data:\\n\", data)\n",
    "\n",
    "# Use a boolean mask (data < 0) to select all negative elements and set them to 0\n",
    "data[data < 0] = 0\n",
    "print(\"\\nData after masking:\\n\", data)"
   ]
  },
  {
   "cell_type": "markdown",
   "id": "dadba23d",
   "metadata": {},
   "source": [
    "### <span style=\"font-size: 1.5em; font-family: 'Times New Roman', Times, serif; color: #43B2DB;\">**6. Core Mathematical and Statistical Operations**</span> <br>"
   ]
  },
  {
   "cell_type": "markdown",
   "id": "898952ac",
   "metadata": {},
   "source": [
    "#### <span style=\"font-family: 'Times New Roman', Times, serif; color: #6C8AE5;\">**- Descriptive Statistics**</span> <br>"
   ]
  },
  {
   "cell_type": "markdown",
   "id": "56907a32",
   "metadata": {},
   "source": [
    "- NumPy provides fast and efficient functions for common statistical aggregations."
   ]
  },
  {
   "cell_type": "code",
   "execution_count": 262,
   "id": "658b4a10",
   "metadata": {},
   "outputs": [
    {
     "name": "stdout",
     "output_type": "stream",
     "text": [
      "Sum: 15\n",
      "Mean: 3.0\n",
      "Min: 1\n",
      "Max: 5\n"
     ]
    }
   ],
   "source": [
    "arr1d = np.array([1, 2, 3, 4, 5])\n",
    "\n",
    "print(\"Sum:\", np.sum(arr1d))\n",
    "print(\"Mean:\", np.mean(arr1d))\n",
    "print(\"Min:\", np.min(arr1d))\n",
    "print(\"Max:\", np.max(arr1d))"
   ]
  },
  {
   "cell_type": "markdown",
   "id": "d911e3d9",
   "metadata": {},
   "source": [
    "- The axis Parameter\n",
    "    - The axis parameter is used to perform aggregations along a specific dimension of a multi-dimensional array.\n",
    "        - **axis = 0** : Performs the aggregation along the columns.\n",
    "        - **axis = 1** : Performs the aggregation along the rows."
   ]
  },
  {
   "cell_type": "code",
   "execution_count": 264,
   "id": "20802b48",
   "metadata": {},
   "outputs": [
    {
     "name": "stdout",
     "output_type": "stream",
     "text": [
      "The matrix\n",
      "[[1 2 3]\n",
      " [4 5 6]] \n",
      "\n",
      "Sum of columns: [5 7 9]\n",
      "Min of rows: [1 4]\n"
     ]
    }
   ],
   "source": [
    "arr2d = np.array([[1, 2, 3], [4, 5, 6]])\n",
    "print('The matrix')\n",
    "print(arr2d, '\\n')\n",
    "\n",
    "# Sum along the columns\n",
    "print(\"Sum of columns:\", np.sum(arr2d, axis=0))\n",
    "\n",
    "# Minimum value along the rows\n",
    "print(\"Min of rows:\", np.min(arr2d, axis=1))"
   ]
  },
  {
   "cell_type": "markdown",
   "id": "8a0bfd13",
   "metadata": {},
   "source": [
    "#### <span style=\"font-family: 'Times New Roman', Times, serif; color: #6C8AE5;\">**- Sorting, Searching, and Counting**</span> <br>"
   ]
  },
  {
   "cell_type": "markdown",
   "id": "e40e4d7c",
   "metadata": {},
   "source": [
    "##### `np.sort()` vs. `.sort()`"
   ]
  },
  {
   "cell_type": "markdown",
   "id": "913d2813",
   "metadata": {},
   "source": [
    "- `np.sort()` : This function returns a new, sorted copy of the array, leaving the original unchanged."
   ]
  },
  {
   "cell_type": "code",
   "execution_count": 265,
   "id": "d128a976",
   "metadata": {},
   "outputs": [
    {
     "name": "stdout",
     "output_type": "stream",
     "text": [
      "Original array: [3 1 4 1 5 9]\n",
      "Sorted copy: [1 1 3 4 5 9]\n"
     ]
    }
   ],
   "source": [
    "x = np.array([3, 1, 4, 1, 5, 9])\n",
    "sorted_x = np.sort(x)\n",
    "print(\"Original array:\", x)\n",
    "print(\"Sorted copy:\", sorted_x)"
   ]
  },
  {
   "cell_type": "markdown",
   "id": "9aa8b641",
   "metadata": {},
   "source": [
    "- `.sort()` : This is a method that sorts the array in-place, modifying the original array."
   ]
  },
  {
   "cell_type": "code",
   "execution_count": 266,
   "id": "b3f9fd7b",
   "metadata": {},
   "outputs": [
    {
     "name": "stdout",
     "output_type": "stream",
     "text": [
      "Array sorted in-place: [1 1 3 4 5 9]\n"
     ]
    }
   ],
   "source": [
    "x = np.array([3, 1, 4, 1, 5, 9])\n",
    "x.sort()\n",
    "print(\"Array sorted in-place:\", x)"
   ]
  },
  {
   "cell_type": "markdown",
   "id": "0fb30cff",
   "metadata": {},
   "source": [
    "##### `np.argsort()`"
   ]
  },
  {
   "cell_type": "markdown",
   "id": "a41e855a",
   "metadata": {},
   "source": [
    "- This function returns the indices that would sort the array, rather than the sorted values themselves."
   ]
  },
  {
   "cell_type": "code",
   "execution_count": 267,
   "id": "7bafaadf",
   "metadata": {},
   "outputs": [
    {
     "name": "stdout",
     "output_type": "stream",
     "text": [
      "Indices that would sort the array: [1 3 0 2 4 5]\n",
      "Sorted array using argsort: [1 1 3 4 5 9]\n"
     ]
    }
   ],
   "source": [
    "x = np.array([3, 1, 4, 1, 5, 9])\n",
    "indices = np.argsort(x)\n",
    "print(\"Indices that would sort the array:\", indices)\n",
    "print(\"Sorted array using argsort:\", x[indices])"
   ]
  },
  {
   "cell_type": "markdown",
   "id": "32171e66",
   "metadata": {},
   "source": [
    "##### `np.argmax()` & `np.argmin()`"
   ]
  },
  {
   "cell_type": "markdown",
   "id": "1d8e3539",
   "metadata": {},
   "source": [
    "- These functions return the index of the maximum and minimum values in an array, respectively."
   ]
  },
  {
   "cell_type": "code",
   "execution_count": 268,
   "id": "89601db9",
   "metadata": {},
   "outputs": [
    {
     "name": "stdout",
     "output_type": "stream",
     "text": [
      "Index of max value: 5\n",
      "Index of min value: 1\n"
     ]
    }
   ],
   "source": [
    "x = np.array([3, 1, 4, 1, 5, 9])\n",
    "print(\"Index of max value:\", np.argmax(x))\n",
    "print(\"Index of min value:\", np.argmin(x))"
   ]
  },
  {
   "cell_type": "markdown",
   "id": "908d74ce",
   "metadata": {},
   "source": [
    "##### `np.unique()`"
   ]
  },
  {
   "cell_type": "markdown",
   "id": "87e9dd13",
   "metadata": {},
   "source": [
    "- This function returns an array of the unique elements from the original array."
   ]
  },
  {
   "cell_type": "code",
   "execution_count": 269,
   "id": "21e3cbe3",
   "metadata": {},
   "outputs": [
    {
     "name": "stdout",
     "output_type": "stream",
     "text": [
      "Unique elements: [1 2 3 4 5]\n"
     ]
    }
   ],
   "source": [
    "x = np.array([1, 2, 2, 3, 3, 3, 4, 4, 5])\n",
    "print(\"Unique elements:\", np.unique(x))"
   ]
  },
  {
   "cell_type": "markdown",
   "id": "44288fcf",
   "metadata": {},
   "source": [
    "#### <span style=\"font-family: 'Times New Roman', Times, serif; color: #6C8AE5;\">**- Linear Algebra (`np.linalg`)**</span> <br>"
   ]
  },
  {
   "cell_type": "markdown",
   "id": "6a726ea7",
   "metadata": {},
   "source": [
    "##### **Dot Product and Matrix Multiplication**"
   ]
  },
  {
   "cell_type": "markdown",
   "id": "3645147e",
   "metadata": {},
   "source": [
    "- `np.dot()` and the `@` operator are used for matrix multiplication.<br>\n",
    " The `@` operator is a more modern and readable way to perform this operation."
   ]
  },
  {
   "cell_type": "code",
   "execution_count": 270,
   "id": "4b99da8b",
   "metadata": {},
   "outputs": [
    {
     "name": "stdout",
     "output_type": "stream",
     "text": [
      "Dot product:\n",
      " [[19 22]\n",
      " [43 50]]\n",
      "\n",
      "Matrix multiplication:\n",
      " [[19 22]\n",
      " [43 50]]\n"
     ]
    }
   ],
   "source": [
    "arr1 = np.array([[1, 2], [3, 4]])\n",
    "arr2 = np.array([[5, 6], [7, 8]])\n",
    "\n",
    "# Using np.dot()\n",
    "dot_product = np.dot(arr1, arr2)\n",
    "print(\"Dot product:\\n\", dot_product)\n",
    "\n",
    "# Using @ operator\n",
    "matmul_product = arr1 @ arr2\n",
    "print(\"\\nMatrix multiplication:\\n\", matmul_product)"
   ]
  },
  {
   "cell_type": "markdown",
   "id": "2873d288",
   "metadata": {},
   "source": [
    "##### **Transpose (`.T`)**"
   ]
  },
  {
   "cell_type": "markdown",
   "id": "114fb2d6",
   "metadata": {},
   "source": [
    "- The `.T` attribute returns the transpose of an array."
   ]
  },
  {
   "cell_type": "code",
   "execution_count": 271,
   "id": "2f946a2b",
   "metadata": {},
   "outputs": [
    {
     "name": "stdout",
     "output_type": "stream",
     "text": [
      "Original array:\n",
      " [[1 2 3]\n",
      " [4 5 6]]\n",
      "\n",
      "Transposed array:\n",
      " [[1 4]\n",
      " [2 5]\n",
      " [3 6]]\n"
     ]
    }
   ],
   "source": [
    "arr = np.array([[1, 2, 3], [4, 5, 6]])\n",
    "print(\"Original array:\\n\", arr)\n",
    "print(\"\\nTransposed array:\\n\", arr.T)"
   ]
  },
  {
   "cell_type": "markdown",
   "id": "5a191611",
   "metadata": {},
   "source": [
    "##### **Matrix Characteristics**"
   ]
  },
  {
   "cell_type": "markdown",
   "id": "8b31f10c",
   "metadata": {},
   "source": [
    "- `np.linalg.inv()` : Computes the inverse of a matrix."
   ]
  },
  {
   "cell_type": "code",
   "execution_count": 272,
   "id": "91ff25aa",
   "metadata": {},
   "outputs": [
    {
     "name": "stdout",
     "output_type": "stream",
     "text": [
      "Inverse of the matrix:\n",
      " [[-2.   1. ]\n",
      " [ 1.5 -0.5]]\n"
     ]
    }
   ],
   "source": [
    "arr = np.array([[1, 2], [3, 4]])\n",
    "print(\"Inverse of the matrix:\\n\", np.linalg.inv(arr))"
   ]
  },
  {
   "cell_type": "markdown",
   "id": "2e74c859",
   "metadata": {},
   "source": [
    "- `np.linalg.det()` : Computes the determinant of a matrix."
   ]
  },
  {
   "cell_type": "code",
   "execution_count": 273,
   "id": "dc35efda",
   "metadata": {},
   "outputs": [
    {
     "name": "stdout",
     "output_type": "stream",
     "text": [
      "Determinant of the matrix: -2.0000000000000004\n"
     ]
    }
   ],
   "source": [
    "arr = np.array([[1, 2], [3, 4]])\n",
    "print(\"Determinant of the matrix:\", np.linalg.det(arr))"
   ]
  },
  {
   "cell_type": "markdown",
   "id": "6ebdbd0a",
   "metadata": {},
   "source": [
    "- `np.trace()` : Computes the sum of the diagonal elements of a matrix."
   ]
  },
  {
   "cell_type": "code",
   "execution_count": 274,
   "id": "1b1d29fe",
   "metadata": {},
   "outputs": [
    {
     "name": "stdout",
     "output_type": "stream",
     "text": [
      "Trace of the matrix: 5\n"
     ]
    }
   ],
   "source": [
    "arr = np.array([[1, 2], [3, 4]])\n",
    "print(\"Trace of the matrix:\", np.trace(arr))"
   ]
  },
  {
   "cell_type": "markdown",
   "id": "3506d811",
   "metadata": {},
   "source": [
    "- `np.linalg.matrix_rank()` : Computes the rank of a matrix."
   ]
  },
  {
   "cell_type": "code",
   "execution_count": 275,
   "id": "2fd3bbb9",
   "metadata": {},
   "outputs": [
    {
     "name": "stdout",
     "output_type": "stream",
     "text": [
      "Rank of the matrix: 2\n"
     ]
    }
   ],
   "source": [
    "arr = np.array([[1, 2], [3, 4]])\n",
    "print(\"Rank of the matrix:\", np.linalg.matrix_rank(arr))"
   ]
  }
 ],
 "metadata": {
  "kernelspec": {
   "display_name": "Python 3",
   "language": "python",
   "name": "python3"
  },
  "language_info": {
   "codemirror_mode": {
    "name": "ipython",
    "version": 3
   },
   "file_extension": ".py",
   "mimetype": "text/x-python",
   "name": "python",
   "nbconvert_exporter": "python",
   "pygments_lexer": "ipython3",
   "version": "3.13.5"
  }
 },
 "nbformat": 4,
 "nbformat_minor": 5
}
